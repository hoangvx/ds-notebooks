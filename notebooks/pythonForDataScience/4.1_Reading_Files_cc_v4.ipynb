{
 "cells": [
  {
   "cell_type": "markdown",
   "metadata": {},
   "source": [
    " <div class=\"alert alert-block alert-info\" style=\"margin-top: 20px\">\n",
    " <a href=\"http://cocl.us/NotebooksPython101\"><img src = \"https://ibm.box.com/shared/static/yfe6h4az47ktg2mm9h05wby2n7e8kei3.png\" width = 750, align = \"center\"></a>\n",
    "\n",
    "\n",
    "\n"
   ]
  },
  {
   "cell_type": "markdown",
   "metadata": {},
   "source": [
    "<a href=\"https://www.bigdatauniversity.com\"><img src = \"https://ibm.box.com/shared/static/ugcqz6ohbvff804xp84y4kqnvvk3bq1g.png\" width = 300, align = \"center\"></a>\n",
    "\n",
    "\n",
    "\n",
    "<h1 align=center><font size = 5>Reading Files Python </font></h1>"
   ]
  },
  {
   "cell_type": "markdown",
   "metadata": {},
   "source": [
    "<br>"
   ]
  },
  {
   "cell_type": "markdown",
   "metadata": {},
   "source": [
    "This notebook will provide information regarding reading **.txt** files."
   ]
  },
  {
   "cell_type": "markdown",
   "metadata": {},
   "source": [
    "## Table of Contents\n",
    "\n",
    "\n",
    "<div class=\"alert alert-block alert-info\" style=\"margin-top: 20px\">\n",
    "\n",
    "<li><a href=\"#ref1\">Reading Text Files</a></li>\n",
    "\n",
    "<br>\n",
    "<p></p>\n",
    "Estimated Time Needed: <strong>15 min</strong>\n",
    "</div>\n",
    "\n",
    "<hr>"
   ]
  },
  {
   "cell_type": "markdown",
   "metadata": {},
   "source": [
    " <a id=\"ref1\"></a>\n",
    "<h2 align=center>Reading Text Files</h2>"
   ]
  },
  {
   "cell_type": "markdown",
   "metadata": {},
   "source": [
    "One way to read or write a file in Python is to use the built-in **open** function. The **open** function provides a **File object** that contains methods and attributes you need to read, save, and manipulate the file. In this notebook, we will only cover **.txt** files. The first parameter you need is the file path and the file name. An example is shown in __Figure 1__.\n",
    "\n"
   ]
  },
  {
   "cell_type": "markdown",
   "metadata": {},
   "source": [
    " <a ><img src = \"https://ibm.box.com/shared/static/6wl3vw4ghflafrou0noj70t2n4hbalqr.png\" width = 500, align = \"center\"></a>\n",
    "  <h4 align=center>  \n",
    "    Figure 1: Labeled Syntax of a file object.  \n",
    "\n",
    "  </h4> "
   ]
  },
  {
   "cell_type": "markdown",
   "metadata": {},
   "source": [
    " The mode argument is optional the default value is **r**. In this notebook we only cover two modes: \n",
    "\n",
    "<li>**r** Read mode for reading files </li>\n",
    "<li>**w** Write mode for writing files</li>"
   ]
  },
  {
   "cell_type": "markdown",
   "metadata": {},
   "source": [
    " For the next example, we will use the text file **Example1.txt**. The file is shown in figure 2.\n"
   ]
  },
  {
   "cell_type": "markdown",
   "metadata": {},
   "source": [
    " <a ><img src = \"https://ibm.box.com/shared/static/ilzy3av6x1cd3gi61bq2nq0vxb0awhju.png\" width = 200, align = \"center\"></a>\n",
    "  <h4 align=center>  \n",
    "    Figure 2: The text file \"Example1.txt\".\n",
    "\n",
    "  </h4> "
   ]
  },
  {
   "cell_type": "markdown",
   "metadata": {},
   "source": [
    " First we load the file into the directory "
   ]
  },
  {
   "cell_type": "code",
   "execution_count": 2,
   "metadata": {},
   "outputs": [
    {
     "name": "stdout",
     "output_type": "stream",
     "text": [
      "--2018-03-29 04:00:47--  https://ibm.box.com/shared/static/6rv6cphk4uwrfe6ne9sye1fc8yy6w9q9.txt\n",
      "Resolving ibm.box.com (ibm.box.com)... 107.152.24.197\n",
      "Connecting to ibm.box.com (ibm.box.com)|107.152.24.197|:443... connected.\n",
      "HTTP request sent, awaiting response... 301 Moved Permanently\n",
      "Location: https://ibm.ent.box.com/shared/static/6rv6cphk4uwrfe6ne9sye1fc8yy6w9q9.txt [following]\n",
      "--2018-03-29 04:00:51--  https://ibm.ent.box.com/shared/static/6rv6cphk4uwrfe6ne9sye1fc8yy6w9q9.txt\n",
      "Resolving ibm.ent.box.com (ibm.ent.box.com)... 107.152.25.211\n",
      "Connecting to ibm.ent.box.com (ibm.ent.box.com)|107.152.25.211|:443... connected.\n",
      "HTTP request sent, awaiting response... 302 Found\n",
      "Location: https://public.boxcloud.com/d/1/E5WuB5wnUDx3A65tIHn-OFOJxN-YU10WbmErT9i5A1Htpyfli1HmxJ8JtsOelZBZf9PeflL1pg9l3ZrSIr0T1EFrJnt7GqkTRqIGs5AxrgAwkXCqcfU7M8-0WIG4elcj1zugwWl9oXmWmm47PFqIYFNUDbmbT0QTuoA9dcApASVqV8VTgd2PMbhvJzyMuszwyeaXwvWFqekk0YsFIi0AJc1OORVqyIXTBg5IHktbK0PurnVJrpmTXgQrIPXzDRl9jG12gBPy7Wehg2z0cQ4dwvdLik_gV8mEtKP7AcZvKxNYMINR_6FnsQYx1PqFqEi4_QFglO_idTYu8ebJagVpvn9x0_a3F18J9W00UWjNeHLL4Ag_JYqXPjz1yUufaof5GWXDl_3BhdBRumD4sTzcT1tJOJqmmfefQSdf8oHwsq2_6J9Ad84OLkOz-hKFGNrs3SZtOBeLE8OQlMRwLQUj8l5gy4gdmnBt3fMM4XwEYgUe5hcoeJfg9G_VCZbzeIxglBjAAVQuNSgaiCYCud-2NOagO5ryx7k_hkQNtn3PRJz6-tyuj1YTM2rshm_Zfiin8mv1YahXT4yZSY4rWMoF-dRrGdMqIzaCw63b65adkWqYQF_3F4LGvpAtLGxpfiDd009zRg607LsTg8TE_rvJJ7ygOHFYQ9pQJQmDH2S1sCXxrNb8Eync49GrjAbFzSNN8fejk73WIZBPKY5DQF9G0-F-1cIzERPFu_ZvBfRb-9xDAqZNoRGnzdbiLsrwLbWaMKj4SIhp1-nfzHCiJof2wmo0kIxRp187ZAE5bNnvJIorSy4h_exWZxkcfetESeTzo60au2mdhj9rl2cMSZMDhPkTL3GGoQK18pNOHvHYaR059eDiJ5jOVjUJZun_3UnNqxDTRf0tTlK2dAfqg4lwKM4kBAWJlCSupcV-_4_j_pVvOu51ki_pKfppbm9EI9aY5yH6rHg1ETTlwHSS_bYV4qrxW-NTdFpiWerWj7oCWulxoDeePRMQ5IPQHhmur7kBE98HoXs4uNUF7GaT0XY44_AcZC9xiHtreEmy1eDiycbMWUk0K7bMfQMt3VtJHk7vuPi2VHZUSHTAbs_XXuVVT6r3oOPV1VdhsVdM-aVLcxnt4h8haaOasL8_Wn4_2KbMiq8udOTtlGYBNnnqWcu0UBgGutg7RSMKsnzsVI7edbopJo9vseol7CdAmrGI2AfaPMlwAhS2wH0-VF9iphAvs1lmwgg84ju03nZbB82XRt--azY4m7J6N1jedG_SP0tBBcIGNwvqyQX-9H2Fo7b47cqAhdFJhOty4Xn2XBwz8FMW862llVI5MudwOSj6qaB4BzLjoQ../download [following]\n",
      "--2018-03-29 04:00:52--  https://public.boxcloud.com/d/1/E5WuB5wnUDx3A65tIHn-OFOJxN-YU10WbmErT9i5A1Htpyfli1HmxJ8JtsOelZBZf9PeflL1pg9l3ZrSIr0T1EFrJnt7GqkTRqIGs5AxrgAwkXCqcfU7M8-0WIG4elcj1zugwWl9oXmWmm47PFqIYFNUDbmbT0QTuoA9dcApASVqV8VTgd2PMbhvJzyMuszwyeaXwvWFqekk0YsFIi0AJc1OORVqyIXTBg5IHktbK0PurnVJrpmTXgQrIPXzDRl9jG12gBPy7Wehg2z0cQ4dwvdLik_gV8mEtKP7AcZvKxNYMINR_6FnsQYx1PqFqEi4_QFglO_idTYu8ebJagVpvn9x0_a3F18J9W00UWjNeHLL4Ag_JYqXPjz1yUufaof5GWXDl_3BhdBRumD4sTzcT1tJOJqmmfefQSdf8oHwsq2_6J9Ad84OLkOz-hKFGNrs3SZtOBeLE8OQlMRwLQUj8l5gy4gdmnBt3fMM4XwEYgUe5hcoeJfg9G_VCZbzeIxglBjAAVQuNSgaiCYCud-2NOagO5ryx7k_hkQNtn3PRJz6-tyuj1YTM2rshm_Zfiin8mv1YahXT4yZSY4rWMoF-dRrGdMqIzaCw63b65adkWqYQF_3F4LGvpAtLGxpfiDd009zRg607LsTg8TE_rvJJ7ygOHFYQ9pQJQmDH2S1sCXxrNb8Eync49GrjAbFzSNN8fejk73WIZBPKY5DQF9G0-F-1cIzERPFu_ZvBfRb-9xDAqZNoRGnzdbiLsrwLbWaMKj4SIhp1-nfzHCiJof2wmo0kIxRp187ZAE5bNnvJIorSy4h_exWZxkcfetESeTzo60au2mdhj9rl2cMSZMDhPkTL3GGoQK18pNOHvHYaR059eDiJ5jOVjUJZun_3UnNqxDTRf0tTlK2dAfqg4lwKM4kBAWJlCSupcV-_4_j_pVvOu51ki_pKfppbm9EI9aY5yH6rHg1ETTlwHSS_bYV4qrxW-NTdFpiWerWj7oCWulxoDeePRMQ5IPQHhmur7kBE98HoXs4uNUF7GaT0XY44_AcZC9xiHtreEmy1eDiycbMWUk0K7bMfQMt3VtJHk7vuPi2VHZUSHTAbs_XXuVVT6r3oOPV1VdhsVdM-aVLcxnt4h8haaOasL8_Wn4_2KbMiq8udOTtlGYBNnnqWcu0UBgGutg7RSMKsnzsVI7edbopJo9vseol7CdAmrGI2AfaPMlwAhS2wH0-VF9iphAvs1lmwgg84ju03nZbB82XRt--azY4m7J6N1jedG_SP0tBBcIGNwvqyQX-9H2Fo7b47cqAhdFJhOty4Xn2XBwz8FMW862llVI5MudwOSj6qaB4BzLjoQ../download\n",
      "Resolving public.boxcloud.com (public.boxcloud.com)... 107.152.25.200\n",
      "Connecting to public.boxcloud.com (public.boxcloud.com)|107.152.25.200|:443... connected.\n",
      "HTTP request sent, awaiting response... 200 OK\n",
      "Length: 45 [text/plain]\n",
      "Saving to: 'Example1.txt'\n",
      "\n",
      "Example1.txt        100%[===================>]      45  --.-KB/s    in 0s      \n",
      "\n",
      "2018-03-29 04:00:53 (1011 KB/s) - 'Example1.txt' saved [45/45]\n",
      "\n"
     ]
    }
   ],
   "source": [
    "!wget -O Example1.txt https://ibm.box.com/shared/static/6rv6cphk4uwrfe6ne9sye1fc8yy6w9q9.txt"
   ]
  },
  {
   "cell_type": "markdown",
   "metadata": {},
   "source": [
    " we read the file "
   ]
  },
  {
   "cell_type": "code",
   "execution_count": 4,
   "metadata": {},
   "outputs": [],
   "source": [
    "example1=\"Example1.txt\"\n",
    "file1 = open(example1,\"r\")"
   ]
  },
  {
   "cell_type": "markdown",
   "metadata": {},
   "source": [
    " We can view the attributes of the file."
   ]
  },
  {
   "cell_type": "markdown",
   "metadata": {},
   "source": [
    "The name of the file:"
   ]
  },
  {
   "cell_type": "code",
   "execution_count": 5,
   "metadata": {},
   "outputs": [
    {
     "data": {
      "text/plain": [
       "'Example1.txt'"
      ]
     },
     "execution_count": 5,
     "metadata": {},
     "output_type": "execute_result"
    }
   ],
   "source": [
    "file1.name"
   ]
  },
  {
   "cell_type": "markdown",
   "metadata": {},
   "source": [
    " The mode the file object is in:"
   ]
  },
  {
   "cell_type": "code",
   "execution_count": 6,
   "metadata": {},
   "outputs": [
    {
     "data": {
      "text/plain": [
       "'r'"
      ]
     },
     "execution_count": 6,
     "metadata": {},
     "output_type": "execute_result"
    }
   ],
   "source": [
    "file1.mode"
   ]
  },
  {
   "cell_type": "markdown",
   "metadata": {},
   "source": [
    "We can read the file and assign it to a variable :"
   ]
  },
  {
   "cell_type": "code",
   "execution_count": 7,
   "metadata": {},
   "outputs": [
    {
     "data": {
      "text/plain": [
       "'This is line 1 \\nThis is line 2\\nThis is line 3'"
      ]
     },
     "execution_count": 7,
     "metadata": {},
     "output_type": "execute_result"
    }
   ],
   "source": [
    "FileContent=file1.read()\n",
    "FileContent"
   ]
  },
  {
   "cell_type": "markdown",
   "metadata": {},
   "source": [
    "The “/n” tells python that there is a new line. "
   ]
  },
  {
   "cell_type": "markdown",
   "metadata": {},
   "source": [
    "we can print the file "
   ]
  },
  {
   "cell_type": "code",
   "execution_count": 8,
   "metadata": {},
   "outputs": [
    {
     "name": "stdout",
     "output_type": "stream",
     "text": [
      "This is line 1 \n",
      "This is line 2\n",
      "This is line 3\n"
     ]
    }
   ],
   "source": [
    "print(FileContent)"
   ]
  },
  {
   "cell_type": "markdown",
   "metadata": {},
   "source": [
    "The file is of type string:"
   ]
  },
  {
   "cell_type": "code",
   "execution_count": 9,
   "metadata": {},
   "outputs": [
    {
     "data": {
      "text/plain": [
       "str"
      ]
     },
     "execution_count": 9,
     "metadata": {},
     "output_type": "execute_result"
    }
   ],
   "source": [
    "type(FileContent)"
   ]
  },
  {
   "cell_type": "markdown",
   "metadata": {},
   "source": [
    " We must close the file object:"
   ]
  },
  {
   "cell_type": "code",
   "execution_count": 10,
   "metadata": {},
   "outputs": [],
   "source": [
    "file1.close()"
   ]
  },
  {
   "cell_type": "code",
   "execution_count": 11,
   "metadata": {},
   "outputs": [
    {
     "data": {
      "text/plain": [
       "<_io.TextIOWrapper name='Example1.txt' mode='r' encoding='ANSI_X3.4-1968'>"
      ]
     },
     "execution_count": 11,
     "metadata": {},
     "output_type": "execute_result"
    }
   ],
   "source": [
    "file1"
   ]
  },
  {
   "cell_type": "markdown",
   "metadata": {},
   "source": [
    " <h3> A  Better Way to Open a File </h3>"
   ]
  },
  {
   "cell_type": "markdown",
   "metadata": {},
   "source": [
    "Using the **with** the statement is better practice, it automatically closes the file even if the code encounters an exception. The code will run everything in the indent block then close the file.\n"
   ]
  },
  {
   "cell_type": "code",
   "execution_count": 12,
   "metadata": {},
   "outputs": [
    {
     "name": "stdout",
     "output_type": "stream",
     "text": [
      "This is line 1 \n",
      "This is line 2\n",
      "This is line 3\n"
     ]
    }
   ],
   "source": [
    "with open(example1,\"r\") as file1:\n",
    "    FileContent=file1.read()\n",
    "    print(FileContent)"
   ]
  },
  {
   "cell_type": "markdown",
   "metadata": {},
   "source": [
    "The file object is closed, you can verify it by running the following cell:  "
   ]
  },
  {
   "cell_type": "code",
   "execution_count": 13,
   "metadata": {},
   "outputs": [
    {
     "data": {
      "text/plain": [
       "True"
      ]
     },
     "execution_count": 13,
     "metadata": {},
     "output_type": "execute_result"
    }
   ],
   "source": [
    "file1.closed"
   ]
  },
  {
   "cell_type": "markdown",
   "metadata": {},
   "source": [
    " we can see the info in the file:"
   ]
  },
  {
   "cell_type": "code",
   "execution_count": 14,
   "metadata": {},
   "outputs": [
    {
     "name": "stdout",
     "output_type": "stream",
     "text": [
      "This is line 1 \n",
      "This is line 2\n",
      "This is line 3\n"
     ]
    }
   ],
   "source": [
    "print(FileContent)"
   ]
  },
  {
   "cell_type": "markdown",
   "metadata": {},
   "source": [
    "The syntax is a little confusing as the file object is after the **as** statement. Also, we don’t explicitly close the file. Therefore we summarise the steps in a figure:"
   ]
  },
  {
   "cell_type": "markdown",
   "metadata": {},
   "source": [
    " <a ><img src = \"https://ibm.box.com/shared/static/ywul1ji1ld82xwz60ljxvbg6fs2vrunm.png\" width = 500, align = \"center\"></a>\n",
    "  <h4 align=center>  \n",
    "    The syntax for opening a file using a with statement.\n",
    "\n",
    "  </h4> "
   ]
  },
  {
   "cell_type": "code",
   "execution_count": 15,
   "metadata": {},
   "outputs": [
    {
     "name": "stdout",
     "output_type": "stream",
     "text": [
      "['This is line 1 \\n', 'This is line 2\\n', 'This is line 3']\n"
     ]
    }
   ],
   "source": [
    "with open(example1,\"r\") as file1:\n",
    "    FileContent=file1.readlines()\n",
    "    print(FileContent)"
   ]
  },
  {
   "cell_type": "markdown",
   "metadata": {},
   "source": [
    "We don’t have to read the entire file, for example, we can read the first 4 characters by entering three as a parameter to the method **.read()**\n"
   ]
  },
  {
   "cell_type": "code",
   "execution_count": 16,
   "metadata": {},
   "outputs": [
    {
     "name": "stdout",
     "output_type": "stream",
     "text": [
      "This\n"
     ]
    }
   ],
   "source": [
    "with open(example1,\"r\") as file1:\n",
    "    print(file1.read(4))"
   ]
  },
  {
   "cell_type": "markdown",
   "metadata": {},
   "source": [
    "Once the method **.read(4)** is called the first 4 characters are called, if we call the method again, the next four characters are called. The output for the following cell will demonstrate the process for different inputs to the method **read() **.\n",
    "\n"
   ]
  },
  {
   "cell_type": "code",
   "execution_count": 17,
   "metadata": {},
   "outputs": [
    {
     "name": "stdout",
     "output_type": "stream",
     "text": [
      "This\n",
      " is \n",
      "line 1 \n",
      "\n",
      "This is line 2\n"
     ]
    }
   ],
   "source": [
    "with open(example1,\"r\") as file1:\n",
    "    print(file1.read(4))\n",
    "    print(file1.read(4))\n",
    "    print(file1.read(7))\n",
    "    print(file1.read(15))\n"
   ]
  },
  {
   "cell_type": "markdown",
   "metadata": {},
   "source": [
    " The process is illustrated in figure,  each color represents the part of the file read after the method **read()** is called.\n"
   ]
  },
  {
   "cell_type": "markdown",
   "metadata": {},
   "source": [
    " <a ><img src = \"https://ibm.box.com/shared/static/s0xs6y4vcvabp2ll2pwspa6kd8qeoddj.png\" width = 500, align = \"center\"></a>\n",
    "  <h4 align=center>  \n",
    "     Illustration of using the method **.read()** to call differnet characters \n",
    "\n",
    "  </h4> "
   ]
  },
  {
   "cell_type": "markdown",
   "metadata": {},
   "source": [
    " here is an example using different values "
   ]
  },
  {
   "cell_type": "code",
   "execution_count": null,
   "metadata": {},
   "outputs": [],
   "source": [
    "with open(example1,\"r\") as file1:\n",
    "    print(file1.read(16))\n",
    "    print(file1.read(5))\n",
    "    print(file1.read(9))\n"
   ]
  },
  {
   "cell_type": "markdown",
   "metadata": {},
   "source": [
    "We can also read one line of the file at a time using the method **readline()**: "
   ]
  },
  {
   "cell_type": "code",
   "execution_count": null,
   "metadata": {},
   "outputs": [],
   "source": [
    " with open(example1,\"r\") as file1:\n",
    "    print(\"first line: \" + file1.readline())\n"
   ]
  },
  {
   "cell_type": "markdown",
   "metadata": {},
   "source": [
    " We can use a loop to iterate through each line. \n"
   ]
  },
  {
   "cell_type": "code",
   "execution_count": null,
   "metadata": {},
   "outputs": [],
   "source": [
    " with open(example1,\"r\") as file1:\n",
    "        i=0;\n",
    "        for line in file1:\n",
    "            print(\"Iteration\" ,str(i),\":\",line)\n",
    "            i=i+1;"
   ]
  },
  {
   "cell_type": "markdown",
   "metadata": {},
   "source": [
    "We can use the method **readline()** to save the text file to a list. "
   ]
  },
  {
   "cell_type": "code",
   "execution_count": null,
   "metadata": {
    "collapsed": true
   },
   "outputs": [],
   "source": [
    "with open(example1,\"r\") as file1:\n",
    "    FileasList=file1.readlines()"
   ]
  },
  {
   "cell_type": "markdown",
   "metadata": {},
   "source": [
    " Each element of the list corresponds to a line of text."
   ]
  },
  {
   "cell_type": "code",
   "execution_count": null,
   "metadata": {},
   "outputs": [],
   "source": [
    "FileasList[0]"
   ]
  },
  {
   "cell_type": "code",
   "execution_count": null,
   "metadata": {},
   "outputs": [],
   "source": [
    "FileasList[1]"
   ]
  },
  {
   "cell_type": "code",
   "execution_count": null,
   "metadata": {},
   "outputs": [],
   "source": [
    "FileasList[2]"
   ]
  },
  {
   "cell_type": "markdown",
   "metadata": {},
   "source": [
    "### Hi Joseph here, check out my other course Data Analysis with Python, just click the image below:\n",
    "<a href=\"http://cocl.us/PY0101ENtoDA0101EN\"><img src = \"https://ibm.box.com/shared/static/1msv7g4ovv35c2eb97gsp45gdm833eqz.png\" width = 300, align = \"center\"></a>"
   ]
  },
  {
   "cell_type": "markdown",
   "metadata": {},
   "source": [
    "#### Enjoying Python? Think ahead about what you might want to use in the future.\n",
    "If you're looking for a enterprise-ready environment to use Python on a big scale with two free Apache Spark executors, consider signing up for a free account on [Data Science Experience](http://cocl.us/NotebooksPython101bottom)"
   ]
  },
  {
   "cell_type": "markdown",
   "metadata": {},
   "source": [
    "<hr>\n",
    "### About the Author:  \n",
    " [Joseph Santarcangelo]( https://www.linkedin.com/in/joseph-s-50398b136/) has a PhD in Electrical Engineering, his research focused on using machine learning, signal processing, and computer vision to determine how videos impact human cognition. Joseph has been working for IBM since he completed his PhD."
   ]
  },
  {
   "cell_type": "markdown",
   "metadata": {},
   "source": [
    " <hr>\n",
    "Copyright &copy; 2017 [cognitiveclass.ai](cognitiveclass.ai?utm_source=bducopyrightlink&utm_medium=dswb&utm_campaign=bdu). This notebook and its source code are released under the terms of the [MIT License](https://bigdatauniversity.com/mit-license/).​"
   ]
  }
 ],
 "metadata": {
  "kernelspec": {
   "display_name": "Python 3",
   "language": "python",
   "name": "python3"
  },
  "language_info": {
   "codemirror_mode": {
    "name": "ipython",
    "version": 3
   },
   "file_extension": ".py",
   "mimetype": "text/x-python",
   "name": "python",
   "nbconvert_exporter": "python",
   "pygments_lexer": "ipython3",
   "version": "3.6.4"
  }
 },
 "nbformat": 4,
 "nbformat_minor": 2
}
